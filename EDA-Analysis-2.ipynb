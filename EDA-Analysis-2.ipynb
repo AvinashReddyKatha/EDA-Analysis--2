{
 "cells": [
  {
   "cell_type": "code",
   "execution_count": 5,
   "metadata": {
    "id": "uPEZ9EnEQ9DV"
   },
   "outputs": [],
   "source": [
    "import pandas as pd\n",
    "import numpy as np\n",
    "import seaborn as sns\n",
    "import matplotlib.pyplot as plt"
   ]
  },
  {
   "cell_type": "code",
   "execution_count": 6,
   "metadata": {
    "executionInfo": {
     "elapsed": 513,
     "status": "ok",
     "timestamp": 1700914355713,
     "user": {
      "displayName": "Srinivas .K.M",
      "userId": "13117844341354423285"
     },
     "user_tz": -330
    },
    "id": "1SX5D_hpU_a7"
   },
   "outputs": [],
   "source": [
    "# Assuming you have downloaded the dataset and saved it as \"car_data.csv\"\n",
    "file_path = \"data eda.csv\"\n",
    "car_data = pd.read_csv(file_path)"
   ]
  },
  {
   "cell_type": "code",
   "execution_count": 7,
   "metadata": {
    "colab": {
     "base_uri": "https://localhost:8080/"
    },
    "executionInfo": {
     "elapsed": 449,
     "status": "ok",
     "timestamp": 1700914358563,
     "user": {
      "displayName": "Srinivas .K.M",
      "userId": "13117844341354423285"
     },
     "user_tz": -330
    },
    "id": "fXVxNxmIU_Pa",
    "outputId": "db79a51f-4032-45fe-ee0c-d9c3364f9eda"
   },
   "outputs": [
    {
     "name": "stdout",
     "output_type": "stream",
     "text": [
      "Data Types:\n",
      "Make                  object\n",
      "Model                 object\n",
      "Year                   int64\n",
      "Engine Fuel Type      object\n",
      "Engine HP            float64\n",
      "Engine Cylinders     float64\n",
      "Transmission Type     object\n",
      "Driven_Wheels         object\n",
      "Number of Doors      float64\n",
      "Market Category       object\n",
      "Vehicle Size          object\n",
      "Vehicle Style         object\n",
      "highway MPG            int64\n",
      "city mpg               int64\n",
      "Popularity             int64\n",
      "MSRP                   int64\n",
      "dtype: object\n"
     ]
    }
   ],
   "source": [
    "# (i) Checking the types of data of all the features\n",
    "print(\"Data Types:\")\n",
    "print(car_data.dtypes)"
   ]
  },
  {
   "cell_type": "code",
   "execution_count": 8,
   "metadata": {
    "colab": {
     "base_uri": "https://localhost:8080/"
    },
    "executionInfo": {
     "elapsed": 459,
     "status": "ok",
     "timestamp": 1700914393165,
     "user": {
      "displayName": "Srinivas .K.M",
      "userId": "13117844341354423285"
     },
     "user_tz": -330
    },
    "id": "4GOpuLidU_M0",
    "outputId": "ac887dbb-166f-422f-c0bf-cc6d0d21f86c"
   },
   "outputs": [
    {
     "name": "stdout",
     "output_type": "stream",
     "text": [
      "\n",
      "DataFrame after dropping irrelevant columns:\n",
      "  Make       Model  Year             Engine Fuel Type  Engine HP  \\\n",
      "0  BMW  1 Series M  2011  premium unleaded (required)      335.0   \n",
      "1  BMW    1 Series  2011  premium unleaded (required)      300.0   \n",
      "2  BMW    1 Series  2011  premium unleaded (required)      300.0   \n",
      "3  BMW    1 Series  2011  premium unleaded (required)      230.0   \n",
      "4  BMW    1 Series  2011  premium unleaded (required)      230.0   \n",
      "\n",
      "   Engine Cylinders                        Market Category Vehicle Size  \\\n",
      "0               6.0  Factory Tuner,Luxury,High-Performance      Compact   \n",
      "1               6.0                     Luxury,Performance      Compact   \n",
      "2               6.0                Luxury,High-Performance      Compact   \n",
      "3               6.0                     Luxury,Performance      Compact   \n",
      "4               6.0                                 Luxury      Compact   \n",
      "\n",
      "  Vehicle Style  highway MPG  city mpg  Popularity   MSRP  \n",
      "0         Coupe           26        19        3916  46135  \n",
      "1   Convertible           28        19        3916  40650  \n",
      "2         Coupe           28        20        3916  36350  \n",
      "3         Coupe           28        18        3916  29450  \n",
      "4   Convertible           28        18        3916  34500  \n"
     ]
    }
   ],
   "source": [
    "# (ii) Dropping irrelevant columns\n",
    "# Specify the irrelevant columns to be dropped\n",
    "irrelevant_columns = ['Transmission Type', 'Driven_Wheels', 'Number of Doors']\n",
    "car_data = car_data.drop(columns=irrelevant_columns, axis=1)\n",
    "\n",
    "# Print the updated DataFrame\n",
    "print(\"\\nDataFrame after dropping irrelevant columns:\")\n",
    "print(car_data.head())"
   ]
  },
  {
   "cell_type": "code",
   "execution_count": 9,
   "metadata": {
    "colab": {
     "base_uri": "https://localhost:8080/"
    },
    "executionInfo": {
     "elapsed": 434,
     "status": "ok",
     "timestamp": 1700914406732,
     "user": {
      "displayName": "Srinivas .K.M",
      "userId": "13117844341354423285"
     },
     "user_tz": -330
    },
    "id": "QbWWtaArU_KF",
    "outputId": "17394b01-41c1-4a5c-bf52-037d44168d91"
   },
   "outputs": [
    {
     "name": "stdout",
     "output_type": "stream",
     "text": [
      "\n",
      "Missing Values:\n",
      "Make                   0\n",
      "Model                  0\n",
      "Year                   0\n",
      "Engine Fuel Type       3\n",
      "Engine HP             69\n",
      "Engine Cylinders      30\n",
      "Market Category     3742\n",
      "Vehicle Size           0\n",
      "Vehicle Style          0\n",
      "highway MPG            0\n",
      "city mpg               0\n",
      "Popularity             0\n",
      "MSRP                   0\n",
      "dtype: int64\n"
     ]
    }
   ],
   "source": [
    "# (iii) Processing missing values\n",
    "# Check for missing values\n",
    "missing_values = car_data.isnull().sum()\n",
    "print(\"\\nMissing Values:\")\n",
    "print(missing_values)"
   ]
  },
  {
   "cell_type": "code",
   "execution_count": 32,
   "metadata": {
    "colab": {
     "base_uri": "https://localhost:8080/"
    },
    "executionInfo": {
     "elapsed": 462,
     "status": "ok",
     "timestamp": 1700914413290,
     "user": {
      "displayName": "Srinivas .K.M",
      "userId": "13117844341354423285"
     },
     "user_tz": -330
    },
    "id": "MXYViT0sU_HW",
    "outputId": "d5888c9c-3c3e-4a45-bf13-84a326a9e510"
   },
   "outputs": [
    {
     "name": "stdout",
     "output_type": "stream",
     "text": [
      "\n",
      "DataFrame after processing null values:\n",
      "  Make       Model  Year             Engine Fuel Type  Engine HP  \\\n",
      "0  BMW  1 Series M  2011  premium unleaded (required)      335.0   \n",
      "1  BMW    1 Series  2011  premium unleaded (required)      300.0   \n",
      "2  BMW    1 Series  2011  premium unleaded (required)      300.0   \n",
      "3  BMW    1 Series  2011  premium unleaded (required)      230.0   \n",
      "4  BMW    1 Series  2011  premium unleaded (required)      230.0   \n",
      "\n",
      "   Engine Cylinders                        Market Category Vehicle Size  \\\n",
      "0               6.0  Factory Tuner,Luxury,High-Performance      Compact   \n",
      "1               6.0                     Luxury,Performance      Compact   \n",
      "2               6.0                Luxury,High-Performance      Compact   \n",
      "3               6.0                     Luxury,Performance      Compact   \n",
      "4               6.0                                 Luxury      Compact   \n",
      "\n",
      "  Vehicle Style  highway MPG  city mpg  Popularity   MSRP  \n",
      "0         Coupe           26        19        3916  46135  \n",
      "1   Convertible           28        19        3916  40650  \n",
      "2         Coupe           28        20        3916  36350  \n",
      "3         Coupe           28        18        3916  29450  \n",
      "4   Convertible           28        18        3916  34500  \n"
     ]
    }
   ],
   "source": [
    "# (iv) Processing null values\n",
    "# Impute null values based on the strategy (e.g., mean, median, mode)\n",
    "# Here, we'll use the mean for numerical columns and mode for categorical columns\n",
    "for column in car_data.columns:\n",
    "    if car_data[column].dtype == 'object':\n",
    "        car_data[column].fillna(car_data[column].mode()[0], inplace=True)\n",
    "    else:\n",
    "        car_data[column].fillna(car_data[column].mean(), inplace=True)\n",
    "\n",
    "print(\"\\nDataFrame after processing null values:\")\n",
    "print(car_data.head())"
   ]
  },
  {
   "cell_type": "code",
   "execution_count": 10,
   "metadata": {
    "colab": {
     "base_uri": "https://localhost:8080/"
    },
    "executionInfo": {
     "elapsed": 3,
     "status": "ok",
     "timestamp": 1700914442514,
     "user": {
      "displayName": "Srinivas .K.M",
      "userId": "13117844341354423285"
     },
     "user_tz": -330
    },
    "id": "tZooPapjZqLr",
    "outputId": "de0daf2e-3bd7-4303-f037-50b9914de907"
   },
   "outputs": [
    {
     "name": "stdout",
     "output_type": "stream",
     "text": [
      "\n",
      "Missing Values:\n",
      "Make                   0\n",
      "Model                  0\n",
      "Year                   0\n",
      "Engine Fuel Type       3\n",
      "Engine HP             69\n",
      "Engine Cylinders      30\n",
      "Market Category     3742\n",
      "Vehicle Size           0\n",
      "Vehicle Style          0\n",
      "highway MPG            0\n",
      "city mpg               0\n",
      "Popularity             0\n",
      "MSRP                   0\n",
      "dtype: int64\n"
     ]
    }
   ],
   "source": [
    "# (iii) Processing missing values\n",
    "# Check for missing values\n",
    "missing_values = car_data.isnull().sum()\n",
    "print(\"\\nMissing Values:\")\n",
    "print(missing_values)"
   ]
  },
  {
   "cell_type": "code",
   "execution_count": 11,
   "metadata": {
    "colab": {
     "base_uri": "https://localhost:8080/",
     "height": 607
    },
    "executionInfo": {
     "elapsed": 1333,
     "status": "ok",
     "timestamp": 1700914423697,
     "user": {
      "displayName": "Srinivas .K.M",
      "userId": "13117844341354423285"
     },
     "user_tz": -330
    },
    "id": "tqcRnt8bYIVC",
    "outputId": "6aa664d5-e549-4cb3-c5b0-fd50e14abece"
   },
   "outputs": [
    {
     "data": {
      "image/png": "[encoded data removed]",
      "text/plain": [
       "<Figure size 1200x600 with 2 Axes>"
      ]
     },
     "metadata": {},
     "output_type": "display_data"
    }
   ],
   "source": [
    "# (v) Removing outliers\n",
    "# Define a function to remove outliers using Z-score\n",
    "def remove_outliers_zscore(data, threshold=3):\n",
    "    z_scores = np.abs((data - data.mean()) / data.std())\n",
    "    return data[(z_scores < threshold).all(axis=1)]\n",
    "\n",
    "# Specify the numerical columns for outlier removal\n",
    "numerical_columns = car_data.select_dtypes(include=[np.number]).columns\n",
    "\n",
    "# Apply the remove_outliers_zscore function to numerical columns\n",
    "car_data_no_outliers = car_data.copy()\n",
    "car_data_no_outliers[numerical_columns] = remove_outliers_zscore(car_data[numerical_columns])\n",
    "\n",
    "# Visualize boxplots before and after outlier removal\n",
    "plt.figure(figsize=(12, 6))\n",
    "plt.subplot(1, 2, 1)\n",
    "sns.boxplot(data=car_data[numerical_columns])\n",
    "plt.title('Boxplots Before Outlier Removal')\n",
    "\n",
    "plt.subplot(1, 2, 2)\n",
    "sns.boxplot(data=car_data_no_outliers[numerical_columns])\n",
    "plt.title('Boxplots After Outlier Removal')\n",
    "\n",
    "plt.tight_layout()\n",
    "plt.show()"
   ]
  },
  {
   "cell_type": "code",
   "execution_count": null,
   "metadata": {},
   "outputs": [],
   "source": []
  }
 ],
 "metadata": {
  "colab": {
   "authorship_tag": "ABX9TyNwJ6IWb5Yr0wXifbUxnhBO",
   "mount_file_id": "1v3m2fznSe66f9j08eiZ3wZLzpR1hBYCz",
   "provenance": []
  },
  "kernelspec": {
   "display_name": "Python 3 (ipykernel)",
   "language": "python",
   "name": "python3"
  },
  "language_info": {
   "codemirror_mode": {
    "name": "ipython",
    "version": 3
   },
   "file_extension": ".py",
   "mimetype": "text/x-python",
   "name": "python",
   "nbconvert_exporter": "python",
   "pygments_lexer": "ipython3",
   "version": "3.11.4"
  }
 },
 "nbformat": 4,
 "nbformat_minor": 1
}
